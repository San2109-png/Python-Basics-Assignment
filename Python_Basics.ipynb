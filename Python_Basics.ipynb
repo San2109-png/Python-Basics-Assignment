{
  "nbformat": 4,
  "nbformat_minor": 0,
  "metadata": {
    "colab": {
      "provenance": []
    },
    "kernelspec": {
      "name": "python3",
      "display_name": "Python 3"
    },
    "language_info": {
      "name": "python"
    }
  },
  "cells": [
    {
      "cell_type": "code",
      "execution_count": null,
      "metadata": {
        "id": "6Y94AXa9EqAM"
      },
      "outputs": [],
      "source": []
    },
    {
      "cell_type": "markdown",
      "source": [
        "# **Python Basics **"
      ],
      "metadata": {
        "id": "pEBO6rymErPc"
      }
    },
    {
      "cell_type": "code",
      "source": [],
      "metadata": {
        "id": "v6nAzwyfE4lB"
      },
      "execution_count": null,
      "outputs": []
    },
    {
      "cell_type": "markdown",
      "source": [
        "## Python Basic Questions"
      ],
      "metadata": {
        "id": "dpIGX7LhYMIW"
      }
    },
    {
      "cell_type": "markdown",
      "source": [
        " **1.What is Python, And Why it’s Popular?**\n",
        "- Python is a high-level language, meaning it's designed to be easy for humans\n",
        "to read and write, with a syntax that resembles natural language.\n",
        "Python is a versatile, beginner-friendly, and open-source programming language known for its readability and simplicity. It has a large and active community, providing extensive documentation, tutorials, and support. With a vast collection of libraries and frameworks, Python is widely used in web development, data science, machine learning, automation, and more. Its cross-platform compatibility allows it to run on Windows, macOS, and Linux, making it highly accessible.\n"
      ],
      "metadata": {
        "id": "ZaPHYn4LE5Gx"
      }
    },
    {
      "cell_type": "code",
      "source": [],
      "metadata": {
        "id": "wEfGu8YHFEeQ"
      },
      "execution_count": null,
      "outputs": []
    },
    {
      "cell_type": "markdown",
      "source": [
        "**2. What is an interpreter in Python ?**\n",
        "- The Python interpreter is a program that reads and executes Python code line by line, translating it into machine-readable instructions. It processes Python code by first checking for syntax errors, then converting it into an intermediate representation called bytecode, which it executes sequentially. As an interpreted language, Python does not require compilation into machine code before execution, allowing for quick testing and development.\n"
      ],
      "metadata": {
        "id": "KAk5dedVFLxQ"
      }
    },
    {
      "cell_type": "code",
      "source": [],
      "metadata": {
        "id": "Bnmc4H5JF-RA"
      },
      "execution_count": null,
      "outputs": []
    },
    {
      "cell_type": "markdown",
      "source": [
        "3. **What Are pre-defined keywords in python ?**\n",
        "- 'False', 'None', 'True', 'and', 'as', 'assert', 'async', 'await', 'break','class', 'continue', 'def', 'del', 'elif', 'else', 'except', 'finally', 'for', 'from', 'global', 'if','import', 'in', 'is', 'lambda', 'nonlocal', 'not', 'or', 'pass', 'raise', 'return', 'try', 'while', 'with', 'yield'\n"
      ],
      "metadata": {
        "id": "KBYcFFF4F-04"
      }
    },
    {
      "cell_type": "code",
      "source": [],
      "metadata": {
        "id": "ZONAwOPrGCDR"
      },
      "execution_count": null,
      "outputs": []
    },
    {
      "cell_type": "markdown",
      "source": [
        "4. **Can Keywords be used as Variable Name?**\n",
        "- No, you cannot use Python keywords as variable names because they are reserved words with specific meanings in the language's syntax.\n"
      ],
      "metadata": {
        "id": "uAzOUytLGV4r"
      }
    },
    {
      "cell_type": "code",
      "source": [],
      "metadata": {
        "id": "sg3Z4a5PGd0S"
      },
      "execution_count": null,
      "outputs": []
    },
    {
      "cell_type": "markdown",
      "source": [
        "**5. What is Mutability In python?**\n",
        "- In Python, mutability refers to an object's ability to be changed after it's created. Mutable objects, like lists and dictionaries, can be modified, while immutable objects, like strings and tuples, cannot be altered once created.\n"
      ],
      "metadata": {
        "id": "JH_46zQGGg-i"
      }
    },
    {
      "cell_type": "code",
      "source": [],
      "metadata": {
        "id": "-__pgSabGlZq"
      },
      "execution_count": null,
      "outputs": []
    },
    {
      "cell_type": "markdown",
      "source": [
        "**6.Why are lists  Mutable, but tuples are immutable?**\n",
        "- In Python, a list is an ordered collection of elements enclosed in square brackets [ ]. Lists are considered mutable data types because they can be modified or changed after they are created. This means that the elements of a list can be added, removed, or modified without creating a new list. But Tuples are immutable, meaning their contents cannot be modified after creation, ensuring stability and consistency, which is crucial for applications relying on fixed data. Their immutability allows them to be used as dictionary keys, as mutable objects could lead to unpredictable behavior due to changing hash values. Additionally, tuples are more memory-efficient since Python can allocate memory once and reuse it, improving performance. This immutability also helps maintain data integrity by preventing unintended modifications. Unlike mutable lists, tuples serve as a clear alternative when storing collections that should remain unchanged, signaling fixed data usage in a program.\n"
      ],
      "metadata": {
        "id": "OhozOYMyGm0q"
      }
    },
    {
      "cell_type": "code",
      "source": [],
      "metadata": {
        "id": "ddc5EfXOGs7x"
      },
      "execution_count": null,
      "outputs": []
    },
    {
      "cell_type": "markdown",
      "source": [
        "**7. What are the Differents between “==” and “is” operators in python?**\n",
        "- In Python, the == operator checks if two objects have the same value, while the is operator checks if they refer to the same memory location. Even if two different objects have identical values, == will return True, but is will return False unless they are the same object in memory. For example, two lists with the same elements will be considered equal with ==, but is will indicate they are different objects. However, Python optimizes memory usage for small immutable objects like integers and strings, sometimes making is return True unexpectedly. This distinction is important when comparing objects, as == is used for value comparison and is for identity comparison.\n"
      ],
      "metadata": {
        "id": "dkbKpu-fGzti"
      }
    },
    {
      "cell_type": "markdown",
      "source": [
        "**8.What Are logical Operators in python?**\n",
        "\n",
        "- In Python, the logical operators are and, or, and not, used to combine or invert boolean expressions, allowing for more complex conditional logic."
      ],
      "metadata": {
        "id": "NVqdVeJIGxBi"
      }
    },
    {
      "cell_type": "code",
      "source": [],
      "metadata": {
        "id": "ex59NybTHC75"
      },
      "execution_count": null,
      "outputs": []
    },
    {
      "cell_type": "markdown",
      "source": [
        "**9.What is Type casting In python?**\n",
        "- Type casting in Python is the process of converting one data type into another, either implicitly (automatically) or explicitly (manually). Implicit type casting occurs when Python automatically converts a smaller data type into a larger one, like converting an integer to a float during arithmetic operations. Explicit type casting requires using built-in functions such as int(), float(), str(), list(), etc., to manually change a value's type. For example:\n",
        "\n",
        "\n",
        "\n"
      ],
      "metadata": {
        "id": "8kpYz35uHWZS"
      }
    },
    {
      "cell_type": "code",
      "source": [
        "#Example of typecasting\n",
        "x = \"25\"\n",
        "y = int(x)  # Converts string to integer\n",
        "print(y, type(y))  # Output: 25 <class 'int'>\n",
        "\n"
      ],
      "metadata": {
        "colab": {
          "base_uri": "https://localhost:8080/"
        },
        "id": "x2FfSuVjHZ0J",
        "outputId": "3264b75a-63a2-46b2-edc4-fb7ab100c48e"
      },
      "execution_count": 7,
      "outputs": [
        {
          "output_type": "stream",
          "name": "stdout",
          "text": [
            "25 <class 'int'>\n"
          ]
        }
      ]
    },
    {
      "cell_type": "code",
      "source": [],
      "metadata": {
        "id": "eAN9k-tgH246"
      },
      "execution_count": null,
      "outputs": []
    },
    {
      "cell_type": "markdown",
      "source": [
        "**10. What is the Difference Between implicit and explicit type casting ?**\n",
        "\n",
        "\n",
        "###  Implicit Type Casting (Automatic Conversion)\n",
        "Python automatically converts a smaller data type into a larger data type to avoid data loss.\n",
        "No manual intervention is needed.\n",
        "\n",
        "\n",
        "\n",
        "### -Explicit Type Casting (Manual Conversion)\n",
        "You manually convert a data type using functions like int(), float(), str(), etc.\n",
        "Useful when you need to ensure the correct data type for operations.\n"
      ],
      "metadata": {
        "id": "zQXXKRH9IgzK"
      }
    },
    {
      "cell_type": "code",
      "source": [],
      "metadata": {
        "id": "IQzsKH92JmFQ"
      },
      "execution_count": null,
      "outputs": []
    },
    {
      "cell_type": "markdown",
      "source": [
        "**11. What is purpose of conditional statement in python ?**\n",
        "- Conditional statements in Python, such as if, elif, and else, allow you to control the program's flow by executing different code blocks based on whether a condition is true or false, making programs dynamic and responsive. They are essential for decision-making and reacting to different situations or user inputs. The if statement checks a condition, and if it evaluates to true, the corresponding code block runs. If the condition is false, the program checks any elif statements (short for \"else if\"), executing the first one that evaluates to true. If none of the conditions are met, the else block (if present) runs as a fallback, ensuring that the program handles all possible scenarios."
      ],
      "metadata": {
        "id": "VlVXj_yXKNp6"
      }
    },
    {
      "cell_type": "code",
      "source": [],
      "metadata": {
        "id": "S8zCdaNVOKn4"
      },
      "execution_count": null,
      "outputs": []
    },
    {
      "cell_type": "markdown",
      "source": [
        "**12. How does the elif statement work?**\n",
        "- The elif (short for \"else if\") statement in Python is used when you need to check multiple conditions in a sequence. It allows you to specify additional conditions that are checked only if the previous if condition is false. If an elif condition is true, its corresponding block of code executes, and the remaining conditions are ignored. If none of the if or elif conditions are met, the else block (if present) runs as a fallback."
      ],
      "metadata": {
        "id": "lYTxVGOAOZQp"
      }
    },
    {
      "cell_type": "code",
      "source": [
        "num = 10\n",
        "\n",
        "if num > 10:\n",
        "    print(\"Greater than 10\")\n",
        "elif num == 10:\n",
        "    print(\"Equal to 10\")  # This block executes because num is 10\n",
        "else:\n",
        "    print(\"Less than 10\")"
      ],
      "metadata": {
        "colab": {
          "base_uri": "https://localhost:8080/"
        },
        "id": "lGrYrrksOm1n",
        "outputId": "1e1d7a0c-3371-4039-cc29-9d33eb82dfe2"
      },
      "execution_count": 9,
      "outputs": [
        {
          "output_type": "stream",
          "name": "stdout",
          "text": [
            "Equal to 10\n"
          ]
        }
      ]
    },
    {
      "cell_type": "code",
      "source": [],
      "metadata": {
        "id": "RVsIh5BRO-Kg"
      },
      "execution_count": null,
      "outputs": []
    },
    {
      "cell_type": "markdown",
      "source": [
        "**13.What is difference between for and while loop?**\n",
        "- A for loop is best when you know how many times you want to repeat something, like looping through a list or counting up to a certain number. It automatically stops when it reaches the end of the sequence. On the other hand, a while loop is useful when you don’t know in advance how many times you'll need to loop. It keeps running as long as a condition is true, making it great for situations like waiting for user input or processing data until a certain condition is met. The key difference is that for loops work with predefined sequences, while while loops rely on conditions."
      ],
      "metadata": {
        "id": "P6lJShaePCJR"
      }
    },
    {
      "cell_type": "code",
      "source": [],
      "metadata": {
        "id": "VNYDHFMBQBvn"
      },
      "execution_count": null,
      "outputs": []
    },
    {
      "cell_type": "markdown",
      "source": [
        "***14.Describe a scenario where a while loop is more suitable than a for loop?***\n",
        "- A while loop is more suitable than a for loop when you don't know in advance how many times the loop should run. A great example is a user input validation program, where the program keeps asking for input until the user provides a valid response."
      ],
      "metadata": {
        "id": "W1XCeaU9QGDh"
      }
    },
    {
      "cell_type": "code",
      "source": [
        "correct_password = \"python123\"\n",
        "user_input = \"\"\n",
        "\n",
        "while user_input != correct_password:\n",
        "    user_input = input(\"Enter the password: \")\n",
        "    if user_input == correct_password:\n",
        "        print(\"Access granted!\")\n",
        "    else:\n",
        "        print(\"Incorrect password, try again.\")"
      ],
      "metadata": {
        "colab": {
          "base_uri": "https://localhost:8080/"
        },
        "id": "q1lf1jSIRI-v",
        "outputId": "c7646b82-63be-43b4-c0a3-c77c213dd297"
      },
      "execution_count": 10,
      "outputs": [
        {
          "output_type": "stream",
          "name": "stdout",
          "text": [
            "Enter the password: python123\n",
            "Access granted!\n"
          ]
        }
      ]
    },
    {
      "cell_type": "code",
      "source": [],
      "metadata": {
        "id": "ILIPfZLZRYUv"
      },
      "execution_count": null,
      "outputs": []
    },
    {
      "cell_type": "markdown",
      "source": [
        "## Practical Quenstions"
      ],
      "metadata": {
        "id": "FWkDoiz6YXu-"
      }
    },
    {
      "cell_type": "code",
      "source": [],
      "metadata": {
        "id": "TO218R-cYcg1"
      },
      "execution_count": null,
      "outputs": []
    },
    {
      "cell_type": "markdown",
      "source": [
        "**1. Write a python pogram to print \"Hello World\"**"
      ],
      "metadata": {
        "id": "sDHmitGUYdc2"
      }
    },
    {
      "cell_type": "code",
      "source": [
        "print(\"Hello, World!\")"
      ],
      "metadata": {
        "colab": {
          "base_uri": "https://localhost:8080/"
        },
        "id": "pgNGsGgXYzuN",
        "outputId": "db7ee5ad-072d-42ec-a896-c7af573396c1"
      },
      "execution_count": 11,
      "outputs": [
        {
          "output_type": "stream",
          "name": "stdout",
          "text": [
            "Hello, World!\n"
          ]
        }
      ]
    },
    {
      "cell_type": "code",
      "source": [],
      "metadata": {
        "id": "fB6IHp0KY1fu"
      },
      "execution_count": null,
      "outputs": []
    },
    {
      "cell_type": "markdown",
      "source": [
        "**2. Write a python program that display your name and age.**"
      ],
      "metadata": {
        "id": "u9_E0kqRZNPw"
      }
    },
    {
      "cell_type": "code",
      "source": [
        "name = \"John Doe\"  # Replace with your name\n",
        "age = 25  # Replace with your age\n",
        "\n",
        "print(\"My name is\", name)\n",
        "print(\"I am\", age, \"years old\")"
      ],
      "metadata": {
        "colab": {
          "base_uri": "https://localhost:8080/"
        },
        "id": "hIMmirGkZVSD",
        "outputId": "f589aff6-d65d-4b97-8857-ac3ce9b7655e"
      },
      "execution_count": 12,
      "outputs": [
        {
          "output_type": "stream",
          "name": "stdout",
          "text": [
            "My name is John Doe\n",
            "I am 25 years old\n"
          ]
        }
      ]
    },
    {
      "cell_type": "code",
      "source": [],
      "metadata": {
        "id": "HnfsnyRZZ0Od"
      },
      "execution_count": null,
      "outputs": []
    },
    {
      "cell_type": "markdown",
      "source": [
        "**3. What Code to print all the pre-defined keywords in python using the keywords library.**\n",
        "-"
      ],
      "metadata": {
        "id": "UtHZZ9ZpZ2bH"
      }
    },
    {
      "cell_type": "code",
      "source": [
        "import keyword\n",
        "\n",
        "# Print all Python keywords\n",
        "print(keyword.kwlist)"
      ],
      "metadata": {
        "colab": {
          "base_uri": "https://localhost:8080/"
        },
        "id": "kpgeu7g-_LgL",
        "outputId": "e02f8587-c739-4cd1-d6e9-be1b277c73b8"
      },
      "execution_count": 1,
      "outputs": [
        {
          "output_type": "stream",
          "name": "stdout",
          "text": [
            "['False', 'None', 'True', 'and', 'as', 'assert', 'async', 'await', 'break', 'class', 'continue', 'def', 'del', 'elif', 'else', 'except', 'finally', 'for', 'from', 'global', 'if', 'import', 'in', 'is', 'lambda', 'nonlocal', 'not', 'or', 'pass', 'raise', 'return', 'try', 'while', 'with', 'yield']\n"
          ]
        }
      ]
    },
    {
      "cell_type": "code",
      "source": [],
      "metadata": {
        "id": "qOqTEknw_MYu"
      },
      "execution_count": null,
      "outputs": []
    },
    {
      "cell_type": "markdown",
      "source": [
        "**4.  Write a program that checks if a given word is a pyhon keywords.**"
      ],
      "metadata": {
        "id": "DYP5vX6u_k5h"
      }
    },
    {
      "cell_type": "code",
      "source": [
        "import keyword\n",
        "\n",
        "# Get user input\n",
        "word = input(\"Enter a word: \")\n",
        "\n",
        "# Check if it's a Python keyword\n",
        "if keyword.iskeyword(word):\n",
        "    print(f\"'{word}' is a Python keyword.\")\n",
        "else:\n",
        "    print(f\"'{word}' is NOT a Python keyword.\")\n",
        ""
      ],
      "metadata": {
        "colab": {
          "base_uri": "https://localhost:8080/"
        },
        "id": "n4-VTZB-_6t_",
        "outputId": "bd91bfb3-8e3f-4848-e6c6-bad49ee44384"
      },
      "execution_count": 3,
      "outputs": [
        {
          "output_type": "stream",
          "name": "stdout",
          "text": [
            "Enter a word: gh\n",
            "'gh' is NOT a Python keyword.\n"
          ]
        }
      ]
    },
    {
      "cell_type": "markdown",
      "source": [
        "**6.Write a function to demonstrate the behavior of mutable and immutable arguments.**"
      ],
      "metadata": {
        "id": "7Wxy6O3uBdAo"
      }
    },
    {
      "cell_type": "code",
      "source": [
        "def modify_arguments(mutable_list, immutable_number):\n",
        "    # Modify the mutable list\n",
        "    mutable_list.append(100)\n",
        "\n",
        "    # Try modifying the immutable number\n",
        "    immutable_number += 10\n",
        "\n",
        "    print(\"Inside function:\")\n",
        "    print(\"Mutable list:\", mutable_list)\n",
        "    print(\"Immutable number:\", immutable_number)\n",
        "\n",
        "# Initialize variables\n",
        "my_list = [1, 2, 3]  # Mutable\n",
        "my_number = 50  # Immutable\n",
        "\n",
        "# Call the function\n",
        "modify_arguments(my_list, my_number)\n",
        "\n",
        "# Print after function call\n",
        "print(\"\\nOutside function:\")\n",
        "print(\"Mutable list:\", my_list)  # List is changed\n",
        "print(\"Immutable number:\", my_number)  # Number remains unchanged"
      ],
      "metadata": {
        "colab": {
          "base_uri": "https://localhost:8080/"
        },
        "id": "vO1B5yEVAkjV",
        "outputId": "d633a657-cf9d-4149-c7d8-35ffcf3234d6"
      },
      "execution_count": 4,
      "outputs": [
        {
          "output_type": "stream",
          "name": "stdout",
          "text": [
            "Inside function:\n",
            "Mutable list: [1, 2, 3, 100]\n",
            "Immutable number: 60\n",
            "\n",
            "Outside function:\n",
            "Mutable list: [1, 2, 3, 100]\n",
            "Immutable number: 50\n"
          ]
        }
      ]
    },
    {
      "cell_type": "code",
      "source": [],
      "metadata": {
        "id": "9SNaStGDByXG"
      },
      "execution_count": null,
      "outputs": []
    },
    {
      "cell_type": "markdown",
      "source": [
        "**8. write a function to demonstrate the use of logical operators.**\n",
        "\n",
        "\n"
      ],
      "metadata": {
        "id": "5AJoc8kuDkJf"
      }
    },
    {
      "cell_type": "code",
      "source": [
        "def logical_operators_demo(a, b):\n",
        "    print(f\"Values: a = {a}, b = {b}\\n\")\n",
        "\n",
        "    # Using 'and' operator (True if both conditions are true)\n",
        "    print(f\"a > 10 and b < 20: {a > 10 and b < 20}\")\n",
        "\n",
        "    # Using 'or' operator (True if at least one condition is true)\n",
        "    print(f\"a > 10 or b < 5: {a > 10 or b < 5}\")\n",
        "\n",
        "    # Using 'not' operator (Negates the condition)\n",
        "    print(f\"not (a > 10): {not (a > 10)}\")\n",
        "\n",
        "# Test the function\n",
        "logical_operators_demo(15, 8)"
      ],
      "metadata": {
        "colab": {
          "base_uri": "https://localhost:8080/"
        },
        "id": "QQF5mesBDs9u",
        "outputId": "a2e6c3bb-03bd-4477-f9e7-4d33ba76aa30"
      },
      "execution_count": 6,
      "outputs": [
        {
          "output_type": "stream",
          "name": "stdout",
          "text": [
            "Values: a = 15, b = 8\n",
            "\n",
            "a > 10 and b < 20: True\n",
            "a > 10 or b < 5: True\n",
            "not (a > 10): False\n"
          ]
        }
      ]
    },
    {
      "cell_type": "markdown",
      "source": [
        "**9. Write a Python program to convert user input from string to integer, float, and boolean types**\n"
      ],
      "metadata": {
        "id": "yo7-v0baFxSv"
      }
    },
    {
      "cell_type": "code",
      "source": [
        "# Take user input as a string\n",
        "user_input = input(\"Enter a value: \")\n",
        "\n",
        "# Convert to integer\n",
        "try:\n",
        "    int_value = int(user_input)\n",
        "    print(\"Integer:\", int_value)\n",
        "except ValueError:\n",
        "    print(\"Cannot convert to integer\")\n",
        "\n",
        "# Convert to float\n",
        "try:\n",
        "    float_value = float(user_input)\n",
        "    print(\"Float:\", float_value)\n",
        "except ValueError:\n",
        "    print(\"Cannot convert to float\")\n",
        "\n",
        "# Convert to boolean\n",
        "bool_value = bool(user_input)  # Any non-empty string is True\n",
        "print(\"Boolean:\", bool_value)"
      ],
      "metadata": {
        "colab": {
          "base_uri": "https://localhost:8080/"
        },
        "id": "z7pNnLQAF-v0",
        "outputId": "017d4f36-cd88-468e-bb91-aa900ec97e7f"
      },
      "execution_count": 7,
      "outputs": [
        {
          "output_type": "stream",
          "name": "stdout",
          "text": [
            "Enter a value: 10\n",
            "Integer: 10\n",
            "Float: 10.0\n",
            "Boolean: True\n"
          ]
        }
      ]
    },
    {
      "cell_type": "code",
      "source": [],
      "metadata": {
        "id": "CfkHhFq3GBZV"
      },
      "execution_count": null,
      "outputs": []
    },
    {
      "cell_type": "markdown",
      "source": [
        "**10.Write a Code to demonstrate type casting with list elements**"
      ],
      "metadata": {
        "id": "3TUcv5PhGe33"
      }
    },
    {
      "cell_type": "code",
      "source": [
        "# List with mixed string numbers\n",
        "str_list = [\"10\", \"20.5\", \"30\", \"True\"]\n",
        "\n",
        "# Convert string elements to integer (where possible)\n",
        "int_list = [int(float(item)) if item.replace('.', '', 1).isdigit() else item for item in str_list]\n",
        "print(\"Integer List:\", int_list)\n",
        "\n",
        "# Convert string elements to float\n",
        "float_list = [float(item) if item.replace('.', '', 1).isdigit() else item for item in str_list]\n",
        "print(\"Float List:\", float_list)\n",
        "\n",
        "# Convert string elements to boolean\n",
        "bool_list = [bool(item) for item in str_list]\n",
        "print(\"Boolean List:\", bool_list)"
      ],
      "metadata": {
        "colab": {
          "base_uri": "https://localhost:8080/"
        },
        "id": "G8sekGJnGjXM",
        "outputId": "1cb9a64b-5a8d-434c-bacf-ac076289bf46"
      },
      "execution_count": 8,
      "outputs": [
        {
          "output_type": "stream",
          "name": "stdout",
          "text": [
            "Integer List: [10, 20, 30, 'True']\n",
            "Float List: [10.0, 20.5, 30.0, 'True']\n",
            "Boolean List: [True, True, True, True]\n"
          ]
        }
      ]
    },
    {
      "cell_type": "code",
      "source": [],
      "metadata": {
        "id": "SMaBtuc6GmXl"
      },
      "execution_count": null,
      "outputs": []
    },
    {
      "cell_type": "markdown",
      "source": [
        "**11. Write a program that checks if a number is a positive, negetive or zero.**"
      ],
      "metadata": {
        "id": "iPTOt0AnZKus"
      }
    },
    {
      "cell_type": "code",
      "source": [
        "# Take user input\n",
        "num = float(input(\"Enter a number: \"))\n",
        "\n",
        "# Check conditions\n",
        "if num > 0:\n",
        "    print(\"The number is Positive.\")\n",
        "elif num < 0:\n",
        "    print(\"The number is Negative.\")\n",
        "else:\n",
        "    print(\"The number is Zero.\")\n"
      ],
      "metadata": {
        "colab": {
          "base_uri": "https://localhost:8080/"
        },
        "id": "RTmm1CVdakaq",
        "outputId": "7e4a4c5f-0545-4b89-ae70-157878c0f05a"
      },
      "execution_count": 3,
      "outputs": [
        {
          "output_type": "stream",
          "name": "stdout",
          "text": [
            "Enter a number: 5\n",
            "The number is Positive.\n"
          ]
        }
      ]
    },
    {
      "cell_type": "code",
      "source": [],
      "metadata": {
        "id": "xeRtkTX1amER"
      },
      "execution_count": null,
      "outputs": []
    },
    {
      "cell_type": "markdown",
      "source": [
        "**12.Write a for Loop to print numbers from 1 to 10**"
      ],
      "metadata": {
        "id": "DI01m_msbGge"
      }
    },
    {
      "cell_type": "code",
      "source": [
        "for i in range(1, 11):  # range(start, stop) - stop is exclusive\n",
        "    print(i)"
      ],
      "metadata": {
        "colab": {
          "base_uri": "https://localhost:8080/"
        },
        "id": "wmt6bG8GbV-T",
        "outputId": "15cb84c7-43e1-415f-f57a-3fb17c3bf4a9"
      },
      "execution_count": 2,
      "outputs": [
        {
          "output_type": "stream",
          "name": "stdout",
          "text": [
            "1\n",
            "2\n",
            "3\n",
            "4\n",
            "5\n",
            "6\n",
            "7\n",
            "8\n",
            "9\n",
            "10\n"
          ]
        }
      ]
    },
    {
      "cell_type": "code",
      "source": [],
      "metadata": {
        "id": "XyS5e12CbYp7"
      },
      "execution_count": null,
      "outputs": []
    },
    {
      "cell_type": "markdown",
      "source": [
        "**13. Write a python program to find the sum of all even numbers between 1 and 50**"
      ],
      "metadata": {
        "id": "b3ZWwwlPdrDc"
      }
    },
    {
      "cell_type": "code",
      "source": [
        "# Initialize sum\n",
        "sum_even = 0\n",
        "\n",
        "# Loop through even numbers from 2 to 50\n",
        "for num in range(2, 51, 2):  # Step of 2 to get only even numbers\n",
        "    sum_even += num\n",
        "\n",
        "print(\"Sum of even numbers between 1 and 50:\", sum_even)"
      ],
      "metadata": {
        "colab": {
          "base_uri": "https://localhost:8080/"
        },
        "id": "0oQLp7wadyYI",
        "outputId": "e5f3a552-c37e-4d14-c554-c599d3cf6172"
      },
      "execution_count": 4,
      "outputs": [
        {
          "output_type": "stream",
          "name": "stdout",
          "text": [
            "Sum of even numbers between 1 and 50: 650\n"
          ]
        }
      ]
    },
    {
      "cell_type": "code",
      "source": [],
      "metadata": {
        "id": "GpkFadZzd1dx"
      },
      "execution_count": null,
      "outputs": []
    },
    {
      "cell_type": "markdown",
      "source": [
        "**14.Write a program to reverse a string using a while loop.**"
      ],
      "metadata": {
        "id": "S2MLcsfaeQG9"
      }
    },
    {
      "cell_type": "code",
      "source": [
        "# Take user input\n",
        "text = input(\"Enter a string: \")\n",
        "\n",
        "# Initialize variables\n",
        "reversed_text = \"\"\n",
        "index = len(text) - 1  # Start from the last index\n",
        "\n",
        "# Reverse the string using a while loop\n",
        "while index >= 0:\n",
        "    reversed_text += text[index]  # Add each character in reverse order\n",
        "    index -= 1  # Move to the previous character\n",
        "\n",
        "# Print the reversed string\n",
        "print(\"Reversed string:\", reversed_text)"
      ],
      "metadata": {
        "colab": {
          "base_uri": "https://localhost:8080/"
        },
        "id": "6FrOMqhYeXcS",
        "outputId": "01b819b8-55e8-4071-9bc8-6739d988686a"
      },
      "execution_count": 5,
      "outputs": [
        {
          "output_type": "stream",
          "name": "stdout",
          "text": [
            "Enter a string: ajay\n",
            "Reversed string: yaja\n"
          ]
        }
      ]
    },
    {
      "cell_type": "code",
      "source": [],
      "metadata": {
        "id": "sIXIiXsoeYKS"
      },
      "execution_count": null,
      "outputs": []
    },
    {
      "cell_type": "markdown",
      "source": [
        "**15. Write a python program to calculate the fuctional of a number provided by the user using a while loop.**"
      ],
      "metadata": {
        "id": "Ku1Zm-RxgZW9"
      }
    },
    {
      "cell_type": "code",
      "source": [
        "def calculate_factorial():\n",
        "    num = int(input(\"Enter a non-negative integer: \"))\n",
        "    if num < 0:\n",
        "        print(\"Sorry, factorial does not exist for negative numbers.\")\n",
        "        return\n",
        "    factorial = 1\n",
        "    i = 1\n",
        "    while i <= num:\n",
        "        factorial *= i\n",
        "        i += 1\n",
        "    print(f\"The factorial of {num} is {factorial}\")\n",
        "\n",
        "calculate_factorial()"
      ],
      "metadata": {
        "colab": {
          "base_uri": "https://localhost:8080/"
        },
        "id": "svwfOtlGgtTJ",
        "outputId": "644edc37-8eb4-4706-b802-b758b55c25dd"
      },
      "execution_count": 6,
      "outputs": [
        {
          "output_type": "stream",
          "name": "stdout",
          "text": [
            "Enter a non-negative integer: 5\n",
            "The factorial of 5 is 120\n"
          ]
        }
      ]
    },
    {
      "cell_type": "code",
      "source": [],
      "metadata": {
        "id": "skPbvQiGgvna"
      },
      "execution_count": null,
      "outputs": []
    }
  ]
}